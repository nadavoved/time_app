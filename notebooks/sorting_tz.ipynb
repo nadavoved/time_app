{
 "cells": [
  {
   "cell_type": "code",
   "execution_count": 1,
   "id": "5816f23a",
   "metadata": {},
   "outputs": [],
   "source": [
    "import pandas as pd"
   ]
  },
  {
   "cell_type": "code",
   "execution_count": 2,
   "id": "1cc84f1f",
   "metadata": {},
   "outputs": [],
   "source": [
    "df = pd.read_parquet(path='../geo_data/tz_db/tz_dictionary.parquet')"
   ]
  },
  {
   "cell_type": "code",
   "execution_count": 3,
   "id": "90cda4ed",
   "metadata": {},
   "outputs": [],
   "source": [
    "ext = pd.read_csv(filepath_or_buffer='../geo_data/city_db/worldcities.csv', usecols=['city_ascii', 'population', 'country'])"
   ]
  },
  {
   "cell_type": "markdown",
   "id": "c969882c",
   "metadata": {},
   "source": [
    "# names belong to more populated countries take precedence."
   ]
  },
  {
   "cell_type": "markdown",
   "id": "73ce3bb0",
   "metadata": {},
   "source": [
    "\n",
    "exclude_exp = (r'[Rr]epublic|[Ss]tate|[Aa]uthority|Pradesh|'\n",
    "               r'[Ww]est|[Ee]ast|[Ss]outh|[Nn]orth|[Rr]egion|'\n",
    "               r'Assam|[Dd]ivision|[Nn]ation|[Qq]uarter|[Pp]rovince|'\n",
    "               r'[Cc]ontinent|[Cc]ountry|[Dd]istrict|[Ii]sland|[Tt]erritory|[Cc]entral')\n"
   ]
  },
  {
   "cell_type": "code",
   "execution_count": 9,
   "id": "29dc6f28",
   "metadata": {
    "scrolled": true
   },
   "outputs": [],
   "source": [
    "ext = pd.read_csv(filepath_or_buffer='../geo_data/city_db/worldcities.csv', \n",
    "                  usecols=['city_ascii', 'population'])\n",
    "\n",
    "merged = df.merge(right=ext, left_on='name', right_on='city_ascii').drop(columns=['name', 'population_x']) \\\n",
    ".rename(columns=dict(city_ascii='city', population_y='population')) \\\n",
    ".astype(dict(city='string', population='Int64', gmt_offset='Int64'))\n",
    "\n",
    "country_ttl = merged.drop_duplicates(subset=['city', 'country']).groupby('country', as_index=False)['population'].sum()\n",
    "res = merged.merge(right=country_ttl, on='country') \\\n",
    ".sort_values(by=['population_y', 'population_x'], \n",
    "            ascending=False, ignore_index=True)\n",
    "res['gmt_offset_minute'] = round(res.gmt_offset / 60).astype('Int64')"
   ]
  },
  {
   "cell_type": "code",
   "execution_count": 11,
   "id": "862b087e",
   "metadata": {},
   "outputs": [],
   "source": [
    "res.to_parquet('../geo_data/tz_sorted.parquet')"
   ]
  }
 ],
 "metadata": {
  "kernelspec": {
   "display_name": "Python 3 (ipykernel)",
   "language": "python",
   "name": "python3"
  },
  "language_info": {
   "codemirror_mode": {
    "name": "ipython",
    "version": 3
   },
   "file_extension": ".py",
   "mimetype": "text/x-python",
   "name": "python",
   "nbconvert_exporter": "python",
   "pygments_lexer": "ipython3",
   "version": "3.11.2"
  }
 },
 "nbformat": 4,
 "nbformat_minor": 5
}
