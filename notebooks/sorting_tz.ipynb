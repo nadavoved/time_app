{
 "cells": [
  {
   "cell_type": "code",
   "execution_count": 2,
   "id": "5816f23a",
   "metadata": {},
   "outputs": [],
   "source": [
    "import pandas as pd"
   ]
  },
  {
   "cell_type": "code",
   "execution_count": 3,
   "id": "1cc84f1f",
   "metadata": {},
   "outputs": [],
   "source": [
    "df = pd.read_parquet(path='geo_data/tz_db/tz_dictionary.parquet')"
   ]
  },
  {
   "cell_type": "markdown",
   "id": "c969882c",
   "metadata": {},
   "source": [
    "# names belong to more populated countries take precedence."
   ]
  },
  {
   "cell_type": "code",
   "execution_count": 19,
   "id": "29dc6f28",
   "metadata": {
    "scrolled": true
   },
   "outputs": [],
   "source": [
    "exclude_exp = (r'[Rr]epublic|[Ss]tate|[Aa]uthority|Pradesh|'\n",
    "               r'[Ww]est|[Ee]ast|[Ss]outh|[Nn]orth|[Rr]egion|'\n",
    "               r'Assam|[Dd]ivision|[Nn]ation|[Qq]uarter|[Pp]rovince|'\n",
    "               r'[Cc]ontinent|[Cc]ountry|[Dd]istrict|[Ii]sland')\n",
    "\n",
    "temp = df.query('not name.str.contains(@exclude_exp) and not name==country and not name==continent')\n",
    "\n",
    "country_ttl = temp.drop_duplicates(subset='name'). \\\n",
    "groupby('country', as_index=False)['population'].sum()\n",
    "\n",
    "merged_with_sums = temp.merge(right=country_ttl, on='country')\n",
    "\n",
    "res = merged_with_sums.sort_values(by=['population_y', 'population_x'], \n",
    "                                   ascending=False, ignore_index=True)\n",
    "res['gmt_offset_minute'] = round(res['gmt_offset'] / 60).astype('int')\n",
    "to_store = res.rename(columns=dict(population_x='population')).drop(columns='population_y')\n",
    "to_store.to_parquet('geo_data/tz_sorted.parquet')"
   ]
  }
 ],
 "metadata": {
  "kernelspec": {
   "display_name": "Python 3 (ipykernel)",
   "language": "python",
   "name": "python3"
  },
  "language_info": {
   "codemirror_mode": {
    "name": "ipython",
    "version": 3
   },
   "file_extension": ".py",
   "mimetype": "text/x-python",
   "name": "python",
   "nbconvert_exporter": "python",
   "pygments_lexer": "ipython3",
   "version": "3.11.2"
  }
 },
 "nbformat": 4,
 "nbformat_minor": 5
}
