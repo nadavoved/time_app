{
 "cells": [
  {
   "cell_type": "code",
   "execution_count": 72,
   "id": "5816f23a",
   "metadata": {},
   "outputs": [],
   "source": [
    "import pandas as pd"
   ]
  },
  {
   "cell_type": "code",
   "execution_count": 76,
   "id": "1cc84f1f",
   "metadata": {},
   "outputs": [],
   "source": [
    "df = pd.read_parquet(path='geo_data/complete_data.parquet')"
   ]
  },
  {
   "cell_type": "code",
   "execution_count": 77,
   "id": "ea14bb90",
   "metadata": {},
   "outputs": [],
   "source": [
    "headers = ['zone_name','country_code','abbreviation','time_start','gmt_offset','dst']\n",
    "tst_df = pd.read_csv('geo_data/tz_db/time_zone.csv', names=headers, \n",
    "                     usecols=['zone_name', 'country_code', 'abbreviation', 'gmt_offset'])"
   ]
  },
  {
   "cell_type": "code",
   "execution_count": 102,
   "id": "c8bb139e",
   "metadata": {},
   "outputs": [],
   "source": [
    "country = pd.read_csv('geo_data/tz_db/country.csv', names=['country_code', 'country'])\n",
    "res_df = tst_df.merge(right=country, on='country_code') \\\n",
    ".drop(columns=['country_code']) \\\n",
    ".rename(columns=dict(zone_name='timezone')) \\\n",
    ".drop_duplicates() \\\n",
    ".reset_index(drop=True)"
   ]
  },
  {
   "cell_type": "code",
   "execution_count": 103,
   "id": "238f5e15",
   "metadata": {},
   "outputs": [],
   "source": [
    "temp_offset = round(res_df.gmt_offset / 60).astype('int').map(lambda x: divmod(x, 60))"
   ]
  },
  {
   "cell_type": "code",
   "execution_count": 104,
   "id": "d6e671f0",
   "metadata": {},
   "outputs": [],
   "source": [
    "def parse_offset(x: tuple):\n",
    "    s = ''\n",
    "    h, m = x\n",
    "    if h < 0:\n",
    "        s += '-'\n",
    "    else:\n",
    "        s += '+'\n",
    "    if abs(h) < 10:\n",
    "        s += '0'\n",
    "    s += f'{abs(h)}:'\n",
    "    if abs(m) < 10:\n",
    "        s += '0'\n",
    "    s += str(m)\n",
    "    return s"
   ]
  },
  {
   "cell_type": "code",
   "execution_count": 105,
   "id": "93d9987a",
   "metadata": {},
   "outputs": [],
   "source": [
    "res_df['offset_str'] = temp_offset.map(parse_offset).astype('string')"
   ]
  },
  {
   "cell_type": "code",
   "execution_count": 107,
   "id": "ebcd823f",
   "metadata": {},
   "outputs": [],
   "source": [
    "res_df = res_df.astype(dict(timezone='string', abbreviation='string', country='string'))"
   ]
  },
  {
   "cell_type": "code",
   "execution_count": 99,
   "id": "025e8e0e",
   "metadata": {},
   "outputs": [],
   "source": [
    "right = pd.read_parquet('geo_data/complete_data.parquet')"
   ]
  },
  {
   "cell_type": "code",
   "execution_count": 151,
   "id": "7ee74e16",
   "metadata": {},
   "outputs": [],
   "source": [
    "full_res = res_df.merge(right=right, on='timezone') \\\n",
    ".drop(columns=['utc_offset', 'tz_name', 'country_x'])\n",
    "first = ['name', 'population']\n",
    "rest = [item for item in full_res if item not in first]\n",
    "full_res = full_res.reindex(columns=(first + rest)) \\\n",
    ".astype(dict(timezone='category', abbreviation='category', offset_str='category')) \\\n",
    ".rename(columns=dict(country_y='country'))"
   ]
  },
  {
   "cell_type": "code",
   "execution_count": 152,
   "id": "9f34ba95",
   "metadata": {},
   "outputs": [],
   "source": [
    "full_res.to_parquet(path='geo_data/tz_db/tz_dictionary.parquet')"
   ]
  }
 ],
 "metadata": {
  "kernelspec": {
   "display_name": "Python 3 (ipykernel)",
   "language": "python",
   "name": "python3"
  },
  "language_info": {
   "codemirror_mode": {
    "name": "ipython",
    "version": 3
   },
   "file_extension": ".py",
   "mimetype": "text/x-python",
   "name": "python",
   "nbconvert_exporter": "python",
   "pygments_lexer": "ipython3",
   "version": "3.11.2"
  }
 },
 "nbformat": 4,
 "nbformat_minor": 5
}
