{
 "cells": [
  {
   "cell_type": "code",
   "execution_count": 1,
   "id": "aa27569b",
   "metadata": {},
   "outputs": [],
   "source": [
    "import pandas as pd"
   ]
  },
  {
   "cell_type": "code",
   "execution_count": 2,
   "id": "b03be2b1",
   "metadata": {
    "scrolled": true
   },
   "outputs": [],
   "source": [
    "with open('geo_data/cols.txt') as fp:\n",
    "    headers = [line.split(':')[0].strip() for line in fp]\n",
    "cols = ['name', 'country code', 'timezone', 'population']\n",
    "df = pd.read_csv(filepath_or_buffer='geo_data/allCountries.txt',\n",
    "                 sep='\\t', names=headers, usecols=cols)\n"
   ]
  },
  {
   "cell_type": "code",
   "execution_count": 3,
   "id": "7613ac9b",
   "metadata": {},
   "outputs": [
    {
     "name": "stdout",
     "output_type": "stream",
     "text": [
      "<class 'pandas.core.frame.DataFrame'>\n",
      "RangeIndex: 12368093 entries, 0 to 12368092\n",
      "Data columns (total 4 columns):\n",
      " #   Column        Dtype \n",
      "---  ------        ----- \n",
      " 0   name          object\n",
      " 1   country code  object\n",
      " 2   population    int64 \n",
      " 3   timezone      object\n",
      "dtypes: int64(1), object(3)\n",
      "memory usage: 2.5 GB\n"
     ]
    }
   ],
   "source": [
    "df.info(memory_usage='deep')"
   ]
  },
  {
   "cell_type": "code",
   "execution_count": 4,
   "id": "9f30ba0d",
   "metadata": {
    "scrolled": true
   },
   "outputs": [],
   "source": [
    "pop_lim = 1000\n",
    "best_matches = df.sort_values(by='population', ascending=False).drop_duplicates(subset='name') \\\n",
    ".rename(columns={'country code':'country_code'}) \\\n",
    ".query('population > @pop_lim and not timezone.isna() and not country_code.isna()') \\\n",
    ".query('name.str.fullmatch(r\"[ -~]+\")') \\\n",
    ".reset_index(drop=True)"
   ]
  },
  {
   "cell_type": "code",
   "execution_count": 16,
   "id": "201ee773",
   "metadata": {},
   "outputs": [
    {
     "data": {
      "text/html": [
       "<div>\n",
       "<style scoped>\n",
       "    .dataframe tbody tr th:only-of-type {\n",
       "        vertical-align: middle;\n",
       "    }\n",
       "\n",
       "    .dataframe tbody tr th {\n",
       "        vertical-align: top;\n",
       "    }\n",
       "\n",
       "    .dataframe thead th {\n",
       "        text-align: right;\n",
       "    }\n",
       "</style>\n",
       "<table border=\"1\" class=\"dataframe\">\n",
       "  <thead>\n",
       "    <tr style=\"text-align: right;\">\n",
       "      <th></th>\n",
       "      <th>name</th>\n",
       "      <th>country_code</th>\n",
       "      <th>population</th>\n",
       "      <th>timezone</th>\n",
       "    </tr>\n",
       "  </thead>\n",
       "  <tbody>\n",
       "    <tr>\n",
       "      <th>0</th>\n",
       "      <td>Commonwealth of Nations</td>\n",
       "      <td>GB</td>\n",
       "      <td>2400000000</td>\n",
       "      <td>Europe/London</td>\n",
       "    </tr>\n",
       "    <tr>\n",
       "      <th>1</th>\n",
       "      <td>Indian Subcontinent</td>\n",
       "      <td>IN</td>\n",
       "      <td>1700000000</td>\n",
       "      <td>Asia/Kolkata</td>\n",
       "    </tr>\n",
       "    <tr>\n",
       "      <th>2</th>\n",
       "      <td>Republic of India</td>\n",
       "      <td>IN</td>\n",
       "      <td>1352617328</td>\n",
       "      <td>Asia/Kolkata</td>\n",
       "    </tr>\n",
       "    <tr>\n",
       "      <th>3</th>\n",
       "      <td>Islamic Republic of Pakistan</td>\n",
       "      <td>PK</td>\n",
       "      <td>212215030</td>\n",
       "      <td>Asia/Karachi</td>\n",
       "    </tr>\n",
       "    <tr>\n",
       "      <th>4</th>\n",
       "      <td>Uttar Pradesh</td>\n",
       "      <td>IN</td>\n",
       "      <td>199812341</td>\n",
       "      <td>Asia/Kolkata</td>\n",
       "    </tr>\n",
       "    <tr>\n",
       "      <th>...</th>\n",
       "      <td>...</td>\n",
       "      <td>...</td>\n",
       "      <td>...</td>\n",
       "      <td>...</td>\n",
       "    </tr>\n",
       "    <tr>\n",
       "      <th>123633</th>\n",
       "      <td>Lodno</td>\n",
       "      <td>SK</td>\n",
       "      <td>1001</td>\n",
       "      <td>Europe/Bratislava</td>\n",
       "    </tr>\n",
       "    <tr>\n",
       "      <th>123634</th>\n",
       "      <td>Yashresh</td>\n",
       "      <td>IL</td>\n",
       "      <td>1001</td>\n",
       "      <td>Asia/Jerusalem</td>\n",
       "    </tr>\n",
       "    <tr>\n",
       "      <th>123635</th>\n",
       "      <td>Sigiriya</td>\n",
       "      <td>LK</td>\n",
       "      <td>1001</td>\n",
       "      <td>Asia/Colombo</td>\n",
       "    </tr>\n",
       "    <tr>\n",
       "      <th>123636</th>\n",
       "      <td>Mirepoix-sur-Tarn</td>\n",
       "      <td>FR</td>\n",
       "      <td>1001</td>\n",
       "      <td>Europe/Paris</td>\n",
       "    </tr>\n",
       "    <tr>\n",
       "      <th>123637</th>\n",
       "      <td>Zencani</td>\n",
       "      <td>RO</td>\n",
       "      <td>1001</td>\n",
       "      <td>Europe/Bucharest</td>\n",
       "    </tr>\n",
       "  </tbody>\n",
       "</table>\n",
       "<p>123638 rows × 4 columns</p>\n",
       "</div>"
      ],
      "text/plain": [
       "                                name country_code  population  \\\n",
       "0            Commonwealth of Nations           GB  2400000000   \n",
       "1                Indian Subcontinent           IN  1700000000   \n",
       "2                  Republic of India           IN  1352617328   \n",
       "3       Islamic Republic of Pakistan           PK   212215030   \n",
       "4                      Uttar Pradesh           IN   199812341   \n",
       "...                              ...          ...         ...   \n",
       "123633                         Lodno           SK        1001   \n",
       "123634                      Yashresh           IL        1001   \n",
       "123635                      Sigiriya           LK        1001   \n",
       "123636             Mirepoix-sur-Tarn           FR        1001   \n",
       "123637                       Zencani           RO        1001   \n",
       "\n",
       "                 timezone  \n",
       "0           Europe/London  \n",
       "1            Asia/Kolkata  \n",
       "2            Asia/Kolkata  \n",
       "3            Asia/Karachi  \n",
       "4            Asia/Kolkata  \n",
       "...                   ...  \n",
       "123633  Europe/Bratislava  \n",
       "123634     Asia/Jerusalem  \n",
       "123635       Asia/Colombo  \n",
       "123636       Europe/Paris  \n",
       "123637   Europe/Bucharest  \n",
       "\n",
       "[123638 rows x 4 columns]"
      ]
     },
     "execution_count": 16,
     "metadata": {},
     "output_type": "execute_result"
    }
   ],
   "source": [
    "best_matches"
   ]
  },
  {
   "cell_type": "code",
   "execution_count": 5,
   "id": "ea7e8e76",
   "metadata": {},
   "outputs": [],
   "source": [
    "best_matches.to_json(path_or_buf='geo_data/locations.json')"
   ]
  },
  {
   "cell_type": "code",
   "execution_count": 6,
   "id": "08b94e57",
   "metadata": {},
   "outputs": [],
   "source": [
    "country = pd.read_csv('geo_data/country_info.txt', sep='\\t', usecols=['ISO', 'Country', 'Continent'])"
   ]
  },
  {
   "cell_type": "code",
   "execution_count": 7,
   "id": "169c835c",
   "metadata": {},
   "outputs": [],
   "source": [
    "t = pd.read_json('geo_data/locations.json')"
   ]
  },
  {
   "cell_type": "code",
   "execution_count": 8,
   "id": "7ba26cb3",
   "metadata": {},
   "outputs": [],
   "source": [
    "locations_with_country = t.merge(right=country, left_on='country_code', right_on='ISO')"
   ]
  },
  {
   "cell_type": "code",
   "execution_count": 9,
   "id": "030791bf",
   "metadata": {},
   "outputs": [],
   "source": [
    "continent = pd.read_csv('geo_data/continent_codes.csv')"
   ]
  },
  {
   "cell_type": "code",
   "execution_count": 10,
   "id": "5fbca38c",
   "metadata": {},
   "outputs": [],
   "source": [
    "locations_with_continents = locations_with_country.merge(right=continent, left_on='Continent', right_on='Code') \\\n",
    ".drop(columns=['country_code', 'ISO', 'Continent', 'Code']) \\\n",
    ".rename(columns={'Name':'continent', 'Country': 'country'})"
   ]
  },
  {
   "cell_type": "code",
   "execution_count": 11,
   "id": "fdb5add0",
   "metadata": {},
   "outputs": [],
   "source": [
    "from datetime import datetime\n",
    "from zoneinfo import ZoneInfo\n",
    "tz_map = pd.DataFrame(dict(timezone=list(set(locations_with_continents.timezone))))\n",
    "tz_map['tz_name'] = tz_map.timezone.apply(lambda tz: datetime.now(tz=ZoneInfo(tz)).strftime('%Z')) # zone name\n",
    "tz_map['utc_offset'] = tz_map.timezone.apply(lambda tz: datetime.now(tz=ZoneInfo(tz)).strftime('%z')) # zone offset"
   ]
  },
  {
   "cell_type": "code",
   "execution_count": 12,
   "id": "4bec9c89",
   "metadata": {},
   "outputs": [],
   "source": [
    "tz_map.to_json('geo_data/tz_map.json')\n",
    "locations_with_continents.to_json('geo_data/locs_with_continent.json')"
   ]
  },
  {
   "cell_type": "code",
   "execution_count": 13,
   "id": "a32498c9",
   "metadata": {},
   "outputs": [],
   "source": [
    "x = pd.read_json('geo_data/tz_map.json', dtype='string')"
   ]
  },
  {
   "cell_type": "code",
   "execution_count": 15,
   "id": "d90cdd43",
   "metadata": {},
   "outputs": [
    {
     "data": {
      "text/html": [
       "<div>\n",
       "<style scoped>\n",
       "    .dataframe tbody tr th:only-of-type {\n",
       "        vertical-align: middle;\n",
       "    }\n",
       "\n",
       "    .dataframe tbody tr th {\n",
       "        vertical-align: top;\n",
       "    }\n",
       "\n",
       "    .dataframe thead th {\n",
       "        text-align: right;\n",
       "    }\n",
       "</style>\n",
       "<table border=\"1\" class=\"dataframe\">\n",
       "  <thead>\n",
       "    <tr style=\"text-align: right;\">\n",
       "      <th></th>\n",
       "      <th>timezone</th>\n",
       "      <th>tz_name</th>\n",
       "      <th>utc_offset</th>\n",
       "    </tr>\n",
       "  </thead>\n",
       "  <tbody>\n",
       "    <tr>\n",
       "      <th>0</th>\n",
       "      <td>Europe/Vienna</td>\n",
       "      <td>CET</td>\n",
       "      <td>+0100</td>\n",
       "    </tr>\n",
       "    <tr>\n",
       "      <th>1</th>\n",
       "      <td>America/Winnipeg</td>\n",
       "      <td>CST</td>\n",
       "      <td>-0600</td>\n",
       "    </tr>\n",
       "    <tr>\n",
       "      <th>2</th>\n",
       "      <td>Pacific/Apia</td>\n",
       "      <td>+13</td>\n",
       "      <td>+1300</td>\n",
       "    </tr>\n",
       "    <tr>\n",
       "      <th>3</th>\n",
       "      <td>America/Monterrey</td>\n",
       "      <td>CST</td>\n",
       "      <td>-0600</td>\n",
       "    </tr>\n",
       "    <tr>\n",
       "      <th>4</th>\n",
       "      <td>America/Indiana/Winamac</td>\n",
       "      <td>EST</td>\n",
       "      <td>-0500</td>\n",
       "    </tr>\n",
       "    <tr>\n",
       "      <th>...</th>\n",
       "      <td>...</td>\n",
       "      <td>...</td>\n",
       "      <td>...</td>\n",
       "    </tr>\n",
       "    <tr>\n",
       "      <th>377</th>\n",
       "      <td>Pacific/Kosrae</td>\n",
       "      <td>+11</td>\n",
       "      <td>+1100</td>\n",
       "    </tr>\n",
       "    <tr>\n",
       "      <th>378</th>\n",
       "      <td>Asia/Novosibirsk</td>\n",
       "      <td>+07</td>\n",
       "      <td>+0700</td>\n",
       "    </tr>\n",
       "    <tr>\n",
       "      <th>379</th>\n",
       "      <td>Europe/Chisinau</td>\n",
       "      <td>EET</td>\n",
       "      <td>+0200</td>\n",
       "    </tr>\n",
       "    <tr>\n",
       "      <th>380</th>\n",
       "      <td>America/Sitka</td>\n",
       "      <td>AKST</td>\n",
       "      <td>-0900</td>\n",
       "    </tr>\n",
       "    <tr>\n",
       "      <th>381</th>\n",
       "      <td>Europe/Vilnius</td>\n",
       "      <td>EET</td>\n",
       "      <td>+0200</td>\n",
       "    </tr>\n",
       "  </tbody>\n",
       "</table>\n",
       "<p>382 rows × 3 columns</p>\n",
       "</div>"
      ],
      "text/plain": [
       "                    timezone tz_name utc_offset\n",
       "0              Europe/Vienna     CET      +0100\n",
       "1           America/Winnipeg     CST      -0600\n",
       "2               Pacific/Apia     +13      +1300\n",
       "3          America/Monterrey     CST      -0600\n",
       "4    America/Indiana/Winamac     EST      -0500\n",
       "..                       ...     ...        ...\n",
       "377           Pacific/Kosrae     +11      +1100\n",
       "378         Asia/Novosibirsk     +07      +0700\n",
       "379          Europe/Chisinau     EET      +0200\n",
       "380            America/Sitka    AKST      -0900\n",
       "381           Europe/Vilnius     EET      +0200\n",
       "\n",
       "[382 rows x 3 columns]"
      ]
     },
     "execution_count": 15,
     "metadata": {},
     "output_type": "execute_result"
    }
   ],
   "source": [
    "x"
   ]
  }
 ],
 "metadata": {
  "kernelspec": {
   "display_name": "Python 3 (ipykernel)",
   "language": "python",
   "name": "python3"
  },
  "language_info": {
   "codemirror_mode": {
    "name": "ipython",
    "version": 3
   },
   "file_extension": ".py",
   "mimetype": "text/x-python",
   "name": "python",
   "nbconvert_exporter": "python",
   "pygments_lexer": "ipython3",
   "version": "3.11.2"
  }
 },
 "nbformat": 4,
 "nbformat_minor": 5
}
