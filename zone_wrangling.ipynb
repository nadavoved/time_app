{
 "cells": [
  {
   "cell_type": "code",
   "execution_count": 1,
   "id": "aa27569b",
   "metadata": {},
   "outputs": [],
   "source": [
    "import pandas as pd"
   ]
  },
  {
   "cell_type": "code",
   "execution_count": 2,
   "id": "b03be2b1",
   "metadata": {
    "scrolled": true
   },
   "outputs": [],
   "source": [
    "with open('geo_data/cols.txt') as fp:\n",
    "    headers = [line.split(':')[0].strip() for line in fp]\n",
    "cols = ['name', 'country code', 'timezone', 'population']\n",
    "df = pd.read_csv(filepath_or_buffer='geo_data/allCountries.txt',\n",
    "                 sep='\\t', names=headers, usecols=cols)\n"
   ]
  },
  {
   "cell_type": "code",
   "execution_count": 3,
   "id": "7613ac9b",
   "metadata": {},
   "outputs": [
    {
     "name": "stdout",
     "output_type": "stream",
     "text": [
      "<class 'pandas.core.frame.DataFrame'>\n",
      "RangeIndex: 12368093 entries, 0 to 12368092\n",
      "Data columns (total 4 columns):\n",
      " #   Column        Dtype \n",
      "---  ------        ----- \n",
      " 0   name          object\n",
      " 1   country code  object\n",
      " 2   population    int64 \n",
      " 3   timezone      object\n",
      "dtypes: int64(1), object(3)\n",
      "memory usage: 2.5 GB\n"
     ]
    }
   ],
   "source": [
    "df.info(memory_usage='deep')"
   ]
  },
  {
   "cell_type": "code",
   "execution_count": 4,
   "id": "9f30ba0d",
   "metadata": {
    "scrolled": true
   },
   "outputs": [],
   "source": [
    "pop_lim = 1000\n",
    "best_matches = df.sort_values(by='population', ascending=False).drop_duplicates(subset='name') \\\n",
    ".rename(columns={'country code':'country_code'}) \\\n",
    ".query('population > @pop_lim and not timezone.isna() and not country_code.isna()') \\\n",
    ".query('name.str.fullmatch(r\"[ -~]+\")') \\\n",
    ".reset_index(drop=True)"
   ]
  },
  {
   "cell_type": "code",
   "execution_count": 5,
   "id": "08b94e57",
   "metadata": {},
   "outputs": [],
   "source": [
    "country = pd.read_csv('geo_data/country_info.txt', sep='\\t', usecols=['ISO', 'Country', 'Continent'])"
   ]
  },
  {
   "cell_type": "code",
   "execution_count": 6,
   "id": "7ba26cb3",
   "metadata": {},
   "outputs": [],
   "source": [
    "locations_with_country = best_matches.merge(right=country, left_on='country_code', right_on='ISO')"
   ]
  },
  {
   "cell_type": "code",
   "execution_count": 7,
   "id": "030791bf",
   "metadata": {},
   "outputs": [],
   "source": [
    "continent = pd.read_csv('geo_data/continent_codes.csv')"
   ]
  },
  {
   "cell_type": "code",
   "execution_count": 8,
   "id": "505c1bfb",
   "metadata": {},
   "outputs": [],
   "source": [
    "locations_with_continents = locations_with_country.merge(right=continent, left_on='Continent', right_on='Code') \\\n",
    ".drop(columns=['country_code', 'ISO', 'Continent', 'Code']) \\\n",
    ".rename(columns={'Name':'continent', 'Country': 'country'})"
   ]
  },
  {
   "cell_type": "code",
   "execution_count": 9,
   "id": "fdb5add0",
   "metadata": {},
   "outputs": [],
   "source": [
    "from datetime import datetime\n",
    "from zoneinfo import ZoneInfo\n",
    "tz_map = pd.DataFrame(dict(timezone=list(set(locations_with_continents.timezone))))\n",
    "tz_map['tz_name'] = tz_map.timezone.apply(lambda tz: datetime.now(tz=ZoneInfo(tz)).strftime('%Z')) # zone name\n",
    "tz_map['utc_offset'] = tz_map.timezone.apply(lambda tz: datetime.now(tz=ZoneInfo(tz)).strftime('%z')) # zone offset"
   ]
  },
  {
   "cell_type": "code",
   "execution_count": 10,
   "id": "34c06d01",
   "metadata": {},
   "outputs": [
    {
     "name": "stdout",
     "output_type": "stream",
     "text": [
      "<class 'pandas.core.frame.DataFrame'>\n",
      "Int64Index: 123638 entries, 0 to 123637\n",
      "Data columns (total 7 columns):\n",
      " #   Column      Non-Null Count   Dtype   \n",
      "---  ------      --------------   -----   \n",
      " 0   name        123638 non-null  string  \n",
      " 1   population  123638 non-null  int64   \n",
      " 2   country     123638 non-null  category\n",
      " 3   continent   123638 non-null  category\n",
      " 4   timezone    123638 non-null  category\n",
      " 5   tz_name     123638 non-null  category\n",
      " 6   utc_offset  123638 non-null  category\n",
      "dtypes: category(5), int64(1), string(1)\n",
      "memory usage: 10.9 MB\n"
     ]
    }
   ],
   "source": [
    "final_df = locations_with_continents.merge(right=tz_map, on='timezone')\n",
    "new_index = ['name', 'population', 'country', 'continent', 'timezone', 'tz_name', 'utc_offset']\n",
    "type_map = {item: 'category' for item in ('country', 'continent', 'timezone', 'tz_name')}\n",
    "type_map = type_map | {'name': 'string', 'utc_offset': 'category'}\n",
    "final_df = final_df.reindex(columns=new_index).astype(type_map)\n",
    "final_df.info(memory_usage='deep')"
   ]
  },
  {
   "cell_type": "code",
   "execution_count": 13,
   "id": "2491c4a5",
   "metadata": {},
   "outputs": [],
   "source": [
    "final_df.to_parquet(path='geo_data/complete_data.parquet')"
   ]
  }
 ],
 "metadata": {
  "kernelspec": {
   "display_name": "Python 3 (ipykernel)",
   "language": "python",
   "name": "python3"
  },
  "language_info": {
   "codemirror_mode": {
    "name": "ipython",
    "version": 3
   },
   "file_extension": ".py",
   "mimetype": "text/x-python",
   "name": "python",
   "nbconvert_exporter": "python",
   "pygments_lexer": "ipython3",
   "version": "3.11.2"
  }
 },
 "nbformat": 4,
 "nbformat_minor": 5
}
