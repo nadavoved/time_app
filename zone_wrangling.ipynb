{
 "cells": [
  {
   "cell_type": "code",
   "execution_count": 1,
   "id": "aa27569b",
   "metadata": {},
   "outputs": [],
   "source": [
    "import pandas as pd"
   ]
  },
  {
   "cell_type": "code",
   "execution_count": 2,
   "id": "b03be2b1",
   "metadata": {
    "scrolled": true
   },
   "outputs": [],
   "source": [
    "with open('geo_data/cols.txt') as fp:\n",
    "    headers = [line.split(':')[0].strip() for line in fp]\n",
    "cols = ['name', 'country code', 'timezone', 'population']\n",
    "df = pd.read_csv(filepath_or_buffer='geo_data/allCountries.txt',\n",
    "                 sep='\\t', names=headers, usecols=cols)\n"
   ]
  },
  {
   "cell_type": "code",
   "execution_count": 3,
   "id": "7613ac9b",
   "metadata": {},
   "outputs": [
    {
     "name": "stdout",
     "output_type": "stream",
     "text": [
      "<class 'pandas.core.frame.DataFrame'>\n",
      "RangeIndex: 12368093 entries, 0 to 12368092\n",
      "Data columns (total 4 columns):\n",
      " #   Column        Dtype \n",
      "---  ------        ----- \n",
      " 0   name          object\n",
      " 1   country code  object\n",
      " 2   population    int64 \n",
      " 3   timezone      object\n",
      "dtypes: int64(1), object(3)\n",
      "memory usage: 2.5 GB\n"
     ]
    }
   ],
   "source": [
    "df.info(memory_usage='deep')"
   ]
  },
  {
   "cell_type": "code",
   "execution_count": 71,
   "id": "9f30ba0d",
   "metadata": {
    "scrolled": true
   },
   "outputs": [],
   "source": [
    "best_matches = df.sort_values(by='population', ascending=False).drop_duplicates(subset='name') \\\n",
    ".rename(columns={'country code':'country_code'}) \\\n",
    ".query('population > 15000 and not timezone.isna() and not country_code.isna()') \\\n",
    ".drop(columns='population') \\\n",
    ".query('name.str.fullmatch(r\"[ -~]+\")') \\\n",
    ".reset_index(drop=True)"
   ]
  },
  {
   "cell_type": "code",
   "execution_count": 77,
   "id": "ea7e8e76",
   "metadata": {},
   "outputs": [],
   "source": [
    "best_matches.to_json(path_or_buf='geo_data/locations.json')"
   ]
  },
  {
   "cell_type": "code",
   "execution_count": 96,
   "id": "08b94e57",
   "metadata": {},
   "outputs": [],
   "source": [
    "country = pd.read_csv('geo_data/country_info.txt', sep='\\t', usecols=['ISO', 'Country', 'Continent'])"
   ]
  },
  {
   "cell_type": "code",
   "execution_count": 97,
   "id": "536442dd",
   "metadata": {},
   "outputs": [
    {
     "data": {
      "text/html": [
       "<div>\n",
       "<style scoped>\n",
       "    .dataframe tbody tr th:only-of-type {\n",
       "        vertical-align: middle;\n",
       "    }\n",
       "\n",
       "    .dataframe tbody tr th {\n",
       "        vertical-align: top;\n",
       "    }\n",
       "\n",
       "    .dataframe thead th {\n",
       "        text-align: right;\n",
       "    }\n",
       "</style>\n",
       "<table border=\"1\" class=\"dataframe\">\n",
       "  <thead>\n",
       "    <tr style=\"text-align: right;\">\n",
       "      <th></th>\n",
       "      <th>ISO</th>\n",
       "      <th>Country</th>\n",
       "      <th>Continent</th>\n",
       "    </tr>\n",
       "  </thead>\n",
       "  <tbody>\n",
       "    <tr>\n",
       "      <th>0</th>\n",
       "      <td>AD</td>\n",
       "      <td>Andorra</td>\n",
       "      <td>EU</td>\n",
       "    </tr>\n",
       "    <tr>\n",
       "      <th>1</th>\n",
       "      <td>AE</td>\n",
       "      <td>United Arab Emirates</td>\n",
       "      <td>AS</td>\n",
       "    </tr>\n",
       "    <tr>\n",
       "      <th>2</th>\n",
       "      <td>AF</td>\n",
       "      <td>Afghanistan</td>\n",
       "      <td>AS</td>\n",
       "    </tr>\n",
       "    <tr>\n",
       "      <th>3</th>\n",
       "      <td>AG</td>\n",
       "      <td>Antigua and Barbuda</td>\n",
       "      <td>NaN</td>\n",
       "    </tr>\n",
       "    <tr>\n",
       "      <th>4</th>\n",
       "      <td>AI</td>\n",
       "      <td>Anguilla</td>\n",
       "      <td>NaN</td>\n",
       "    </tr>\n",
       "    <tr>\n",
       "      <th>...</th>\n",
       "      <td>...</td>\n",
       "      <td>...</td>\n",
       "      <td>...</td>\n",
       "    </tr>\n",
       "    <tr>\n",
       "      <th>247</th>\n",
       "      <td>ZA</td>\n",
       "      <td>South Africa</td>\n",
       "      <td>AF</td>\n",
       "    </tr>\n",
       "    <tr>\n",
       "      <th>248</th>\n",
       "      <td>ZM</td>\n",
       "      <td>Zambia</td>\n",
       "      <td>AF</td>\n",
       "    </tr>\n",
       "    <tr>\n",
       "      <th>249</th>\n",
       "      <td>ZW</td>\n",
       "      <td>Zimbabwe</td>\n",
       "      <td>AF</td>\n",
       "    </tr>\n",
       "    <tr>\n",
       "      <th>250</th>\n",
       "      <td>CS</td>\n",
       "      <td>Serbia and Montenegro</td>\n",
       "      <td>EU</td>\n",
       "    </tr>\n",
       "    <tr>\n",
       "      <th>251</th>\n",
       "      <td>AN</td>\n",
       "      <td>Netherlands Antilles</td>\n",
       "      <td>NaN</td>\n",
       "    </tr>\n",
       "  </tbody>\n",
       "</table>\n",
       "<p>252 rows × 3 columns</p>\n",
       "</div>"
      ],
      "text/plain": [
       "    ISO                Country Continent\n",
       "0    AD                Andorra        EU\n",
       "1    AE   United Arab Emirates        AS\n",
       "2    AF            Afghanistan        AS\n",
       "3    AG    Antigua and Barbuda       NaN\n",
       "4    AI               Anguilla       NaN\n",
       "..   ..                    ...       ...\n",
       "247  ZA           South Africa        AF\n",
       "248  ZM                 Zambia        AF\n",
       "249  ZW               Zimbabwe        AF\n",
       "250  CS  Serbia and Montenegro        EU\n",
       "251  AN   Netherlands Antilles       NaN\n",
       "\n",
       "[252 rows x 3 columns]"
      ]
     },
     "execution_count": 97,
     "metadata": {},
     "output_type": "execute_result"
    }
   ],
   "source": [
    "country"
   ]
  }
 ],
 "metadata": {
  "kernelspec": {
   "display_name": "Python 3 (ipykernel)",
   "language": "python",
   "name": "python3"
  },
  "language_info": {
   "codemirror_mode": {
    "name": "ipython",
    "version": 3
   },
   "file_extension": ".py",
   "mimetype": "text/x-python",
   "name": "python",
   "nbconvert_exporter": "python",
   "pygments_lexer": "ipython3",
   "version": "3.11.2"
  }
 },
 "nbformat": 4,
 "nbformat_minor": 5
}
